{
 "metadata": {
  "name": "",
  "signature": "sha256:3e140ebf1ac1ebe776930fa87a98e616c8d9ee7564437643ff629d4d845d35c6"
 },
 "nbformat": 3,
 "nbformat_minor": 0,
 "worksheets": [
  {
   "cells": [
    {
     "cell_type": "code",
     "collapsed": false,
     "input": [
      "import numpy as np\n",
      "import chemview\n",
      "\n",
      "from chemview import RepresentationViewer\n",
      "from chemview.trajectory import TrajectoryViewer\n",
      "from IPython.display import display\n",
      "chemview.enable_notebook()"
     ],
     "language": "python",
     "metadata": {},
     "outputs": [
      {
       "output_type": "stream",
       "stream": "stdout",
       "text": [
        "removing /home/gabriele/.ipython/nbextensions/objexporter.js\n",
        "copying chemview/static/objexporter.js -> /home/gabriele/.ipython/nbextensions/objexporter.js\n",
        "removing /home/gabriele/.ipython/nbextensions/ArcballControls.js\n",
        "copying chemview/static/ArcballControls.js -> /home/gabriele/.ipython/nbextensions/ArcballControls.js\n",
        "removing /home/gabriele/.ipython/nbextensions/filesaver.js\n",
        "copying chemview/static/filesaver.js -> /home/gabriele/.ipython/nbextensions/filesaver.js\n",
        "removing /home/gabriele/.ipython/nbextensions/base64-arraybuffer.js\n",
        "copying chemview/static/base64-arraybuffer.js -> /home/gabriele/.ipython/nbextensions/base64-arraybuffer.js\n",
        "removing /home/gabriele/.ipython/nbextensions/context.js\n",
        "copying chemview/static/context.js -> /home/gabriele/.ipython/nbextensions/context.js\n",
        "removing /home/gabriele/.ipython/nbextensions/chemview.js\n",
        "copying chemview/static/chemview.js -> /home/gabriele/.ipython/nbextensions/chemview.js\n",
        "removing /home/gabriele/.ipython/nbextensions/three.min.js\n",
        "copying chemview/static/three.min.js -> /home/gabriele/.ipython/nbextensions/three.min.js\n",
        "removing /home/gabriele/.ipython/nbextensions/jquery-ui.min.js\n",
        "copying chemview/static/jquery-ui.min.js -> /home/gabriele/.ipython/nbextensions/jquery-ui.min.js\n",
        "removing /home/gabriele/.ipython/nbextensions/context.standalone.css\n",
        "copying chemview/static/context.standalone.css -> /home/gabriele/.ipython/nbextensions/context.standalone.css\n"
       ]
      },
      {
       "javascript": [
        "$(\"head\").append($(\"<link/>\").attr({\n",
        "  rel:  \"stylesheet\",\n",
        "  type: \"text/css\",\n",
        "  href: \"/nbextensions/context.standalone.css\"\n",
        "}));\n",
        "\n",
        "require.config({\n",
        "    paths: {\n",
        "        'three': '/nbextensions/three.min',\n",
        "        'exporter' : '/nbextensions/objexporter',\n",
        "        'filesaver' : '/nbextensions/filesaver',\n",
        "        'base64-arraybuffer': '/nbextensions/base64-arraybuffer',\n",
        "        'jqueryui': '/nbextensions/jquery-ui.min',\n",
        "        'contextmenu': '/nbextensions/context',\n",
        "        'ArcballControls' : '/nbextensions/ArcballControls',\n",
        "        'chemview': '/nbextensions/chemview',\n",
        "    },\n",
        "    shim: {\n",
        "        three: {\n",
        "            exports: 'THREE'\n",
        "        },\n",
        "\n",
        "        chemview: {\n",
        "            deps: ['three', 'ArcballControls'],\n",
        "            exports: 'MolecularViewer'\n",
        "        },\n",
        "\n",
        "        exporter: {\n",
        "            deps: ['three'],\n",
        "            exports: 'THREE.OBJExporter'\n",
        "        },\n",
        "\n",
        "        ArcballControls: {\n",
        "            deps: ['three'],\n",
        "            exports: 'THREE.ArcballControls',\n",
        "        },\n",
        "\n",
        "        jqueryui: {\n",
        "            exports: \"$\"\n",
        "        },\n",
        "\n",
        "    },\n",
        "});\n"
       ],
       "metadata": {},
       "output_type": "display_data",
       "text": [
        "<IPython.core.display.Javascript at 0x7f528e0e2b90>"
       ]
      },
      {
       "javascript": [
        "require([\n",
        "    \"jquery\",\n",
        "    \"widgets/js/widget\",\n",
        "    \"chemview\",\n",
        "    \"exporter\",\n",
        "    \"filesaver\",\n",
        "    \"contextmenu\",\n",
        "    \"base64-arraybuffer\", // provides decode\n",
        "    'jqueryui',\n",
        "    'ArcballControls',\n",
        "    ],\n",
        "function($, WidgetManager) {\n",
        "    var HEIGHT = 600,\n",
        "        WIDTH = 600,\n",
        "        HEIGHT_PX = '600px',\n",
        "        WIDTH_PX = '600px';\n",
        "\n",
        "    var MolecularView = IPython.DOMWidgetView.extend({\n",
        "\n",
        "        render : function() {\n",
        "\n",
        "            console.log(this);\n",
        "            var WIDTH = this.model.get('width'),\n",
        "                HEIGHT = this.model.get('height');\n",
        "\n",
        "            var model = this.model;\n",
        "            var canvas = $(\"<canvas/>\").height(HEIGHT).width(WIDTH);\n",
        "            var mv = new MolecularViewer(canvas);\n",
        "            this.mv = mv;\n",
        "\n",
        "            var container = $('<div/>').height(HEIGHT).width(WIDTH)\n",
        "                .resizable({\n",
        "                    aspectRatio: false,\n",
        "                    resize: function(event, ui) {\n",
        "                        mv.resize(ui.size.width, ui.size.height);\n",
        "                        model.set('width', ui.size.width);\n",
        "                        model.set('height', ui.size.height);\n",
        "\n",
        "                    },\n",
        "                    stop : function(event, ui) {\n",
        "                        mv.render();\n",
        "                    },\n",
        "                });\n",
        "\n",
        "            this.setupContextMenu(this);\n",
        "\n",
        "            container.append(canvas);\n",
        "            this.setElement(container);\n",
        "            mv.renderer.setSize(WIDTH, HEIGHT);\n",
        "\n",
        "            this.setupFullScreen(canvas, container);\n",
        "            // That was pretty hard.\n",
        "            // The widget is added at THE VERY END, and this event gets called.\n",
        "            this.model.on('displayed', function () {\n",
        "                mv.animate();\n",
        "                mv.controls.handleResize();\n",
        "            });\n",
        "\n",
        "            mv.render();\n",
        "        },\n",
        "\n",
        "        update : function () {\n",
        "            return MolecularView.__super__.update.apply(this);\n",
        "        },\n",
        "\n",
        "        setupFullScreen : function(canvas, container) {\n",
        "            // currently only works in chrome. need other prefixes for firefox\n",
        "            var mv = this.mv;\n",
        "            var model = this.model;\n",
        "            canvas.dblclick(function () {\n",
        "                if ('webkitCancelFullScreen' in document) {\n",
        "                    if (!document.webkitIsFullScreen) {\n",
        "                        canvas[0].webkitRequestFullScreen();\n",
        "                        mv.resize(screen.width, screen.height);\n",
        "                        mv.render();\n",
        "                    }\n",
        "                } else if ('mozCancelFullScreen' in document) {\n",
        "                    if (!document.mozIsFullScreen) {\n",
        "                        canvas[0].webkitRequestFullScreen();\n",
        "                        mv.resize(screen.width, screen.height);\n",
        "                        mv.render();\n",
        "                    }\n",
        "                }\n",
        "            });\n",
        "\n",
        "            if ('webkitCancelFullScreen' in document) {\n",
        "                document.addEventListener(\"webkitfullscreenchange\", function() {\n",
        "                        if (!document.webkitIsFullScreen) {\n",
        "                            var width = model.get('width'),\n",
        "                                height = model.get('height');\n",
        "\n",
        "                            container.width(width).height(height);\n",
        "                            mv.resize(width, height);\n",
        "                        }\n",
        "                    });\n",
        "            } else if ('mozCancelFullScreen' in document) {\n",
        "                document.addEventListener(\"mozfullscreenchange\", function() {\n",
        "                        if (!document.mozIsFullScreen) {\n",
        "                            var width = model.get('width'),\n",
        "                                height = model.get('height');\n",
        "\n",
        "                            container.width(width).height(height);\n",
        "                            mv.resize(width, height);\n",
        "                        }\n",
        "                    });\n",
        "            }\n",
        "        },\n",
        "\n",
        "        /* We receive custom messages from our python conterpart with DOMWidget.send */\n",
        "        on_msg: function(msg) {\n",
        "            if (msg.type == 'callMethod') {\n",
        "                this[msg.methodName].call(this, msg.args);\n",
        "            }\n",
        "\n",
        "            return MolecularView.__super__.update.apply(this);\n",
        "        },\n",
        "\n",
        "        addRepresentation : function (args) {\n",
        "            var type = args.type,\n",
        "                repId = args.repId,\n",
        "                options = args.options;\n",
        "            // Pre-process the options to convert numpy arrays or \n",
        "            // other data structures\n",
        "            var that = this;\n",
        "            _.each(options, function(value, key) {\n",
        "                                if (typeof value == 'object' && 'data' in value) {\n",
        "                                    // This is a numpy array\n",
        "                                    options[key] = that.ndarrayToTypedArray(value);\n",
        "                                }\n",
        "                            });\n",
        "\n",
        "\n",
        "            if (type == 'points') {\n",
        "                var rep = new PointsRepresentation(options.coordinates, options.colors, options.sizes);\n",
        "                this.mv.zoomInto(options.coordinates);\n",
        "                this.mv.addRepresentation(rep, repId);\n",
        "            } else if (type == 'lines') {\n",
        "                var rep = new LineRepresentation(options.startCoords, options.endCoords, options.startColors, options.endColors);\n",
        "                this.mv.zoomInto(options.startCoords);\n",
        "                this.mv.addRepresentation(rep, repId);\n",
        "\n",
        "            } else if (type == 'surface') {\n",
        "                var rep = new SurfaceRepresentation(options.verts, options.faces, options.style);\n",
        "                this.mv.addRepresentation(rep, repId);\n",
        "            } else if (type == 'spheres') {\n",
        "                var rep = new SphereRepresentation(options.coordinates, options.radii, options.colors, options.resolution);\n",
        "                this.mv.addRepresentation(rep, repId);\n",
        "                this.mv.zoomInto(options.coordinates);\n",
        "            } else if (type == 'box') {\n",
        "                var rep = new BoxRepresentation(options.start, options.end, options.color);\n",
        "                this.mv.addRepresentation(rep, repId);\n",
        "            } else if (type == 'smoothline') {\n",
        "                var rep = new SmoothLineRepresentation(options.coordinates, options.color, options.resolution);\n",
        "                this.mv.zoomInto(options.coordinates);\n",
        "                this.mv.addRepresentation(rep, repId);\n",
        "            } else if (type == 'smoothtube') {\n",
        "                var rep = new SmoothTubeRepresentation(options.coordinates, options.radius, options.color, options.resolution);\n",
        "                this.mv.zoomInto(options.coordinates);\n",
        "                this.mv.addRepresentation(rep, repId);\n",
        "            } else if (type == 'cylinders') {\n",
        "                var rep = new CylinderRepresentation(options.startCoords, options.endCoords, options.radii, options.colors, options.resolution);\n",
        "                this.mv.addRepresentation(rep, repId);\n",
        "                this.mv.zoomInto(options.startCoords);\n",
        "            }\n",
        "            else {\n",
        "                console.log(\"Undefined representation \" + type);\n",
        "            }\n",
        "\n",
        "            this.mv.controls.handleResize();\n",
        "            this.mv.render();      \n",
        "        },\n",
        "\n",
        "        updateRepresentation : function (args) {\n",
        "            // Updates a previously created representation\n",
        "            var repId = args.repId,\n",
        "                options = args.options;\n",
        "\n",
        "            // Pre-process for numpy arrays\n",
        "            var that = this;\n",
        "            _.each(options, function(value, key) {\n",
        "                    if (typeof value == 'object' && 'data' in value) {\n",
        "                        // This is a numpy array\n",
        "                        options[key] = that.ndarrayToTypedArray(value);\n",
        "                    }\n",
        "                });\n",
        "\n",
        "            var rep = this.mv.getRepresentation(repId);\n",
        "            rep.update(options);\n",
        "            this.mv.render();\n",
        "        },\n",
        "\n",
        "        removeRepresentation: function (args) {\n",
        "            this.mv.removeRepresentation(args.repId);\n",
        "            this.mv.render();\n",
        "        },\n",
        "\n",
        "        ndarrayToTypedArray: function (array) {\n",
        "            var buffer = decode(array['data']);\n",
        "\n",
        "            if (array['type'] == 'float32') {\n",
        "                return new Float32Array(buffer);\n",
        "            }\n",
        "            else if (array['type'] == 'int32') {\n",
        "                return new Int32Array(buffer);\n",
        "            }\n",
        "            else {\n",
        "                console.log('Type ' + array['type'] + ' is not supported');\n",
        "            }\n",
        "\n",
        "        },\n",
        "\n",
        "        setupContextMenu : function(viewer) {\n",
        "            context.init({preventDoubleContext: true});\n",
        "            this.on('exportImg', this._handle_export.bind(this));\n",
        "            var menu = [{header: 'Inline Display'},\n",
        "                    {text: 'PNG',\n",
        "                    action: function () {\n",
        "                        viewer.trigger(\"exportImg\");\n",
        "                    }\n",
        "                },];\n",
        "            context.attach('canvas', menu);\n",
        "\n",
        "        },\n",
        "        \n",
        "        _handle_export: function(){\n",
        "            // Handles when the displayimage menu is clicked\n",
        "            var dataURL = this.mv.renderer.domElement.toDataURL('image/png');\n",
        "            this.send({event: 'displayImg', dataUrl: dataURL});\n",
        "        },\n",
        "\n",
        "    });\n",
        "\n",
        "    WidgetManager.register_widget_view('MolecularView', MolecularView);\n",
        "});"
       ],
       "metadata": {},
       "output_type": "display_data",
       "text": [
        "<IPython.core.display.Javascript at 0x7f528854f8d0>"
       ]
      },
      {
       "javascript": [
        "/**\n",
        " * Trajectory control Widget for IPython\n",
        " *\n",
        " */\n",
        "\n",
        "require([\n",
        "    \"jquery\",\n",
        "    \"widgets/js/widget\",\n",
        "    'jqueryui',\n",
        "    ],\n",
        "function($, WidgetManager) {\n",
        "    var TrajectoryControls = IPython.DOMWidgetView.extend({\n",
        "        render : function() {\n",
        "\n",
        "            this.fps = 30;\n",
        "            this.width = 600;\n",
        "            this.height = 20;\n",
        "            var model = this.model;\n",
        "            // Create the ui elements\n",
        "            // \n",
        "            var tc = $('<div/>');\n",
        "            tc.addClass(\"ui-widget-header\")\n",
        "              .addClass(\"ui-corner-all\")\n",
        "              .css({ padding: \"6px\"})\n",
        "              .width(this.width);\n",
        "\n",
        "            var that = this;\n",
        "            var slider = $('<div/>').slider({\n",
        "                value: 0,\n",
        "                slide: function (event, ui) {\n",
        "                    model.set('frame', ui.value);\n",
        "                    that.touch();\n",
        "                },\n",
        "            });\n",
        "\n",
        "            this.running = false;\n",
        "\n",
        "            var playButton = $('<button/>').button({\n",
        "                    text: false,\n",
        "                    icons: {\n",
        "                        primary: \"ui-icon-play\"\n",
        "                    },\n",
        "                });\n",
        "\n",
        "            playButton.click(function(event) {\n",
        "                    if (!that.running) {\n",
        "                        that.play();\n",
        "                        that.running = true;\n",
        "                    } else {\n",
        "                        that.pause();\n",
        "                        that.running = false;\n",
        "                    }\n",
        "                });\n",
        "            playButton.width(this.height).height(this.height);\n",
        "            playButton.css(\"float\", \"left\");\n",
        "            playButton.appendTo(tc);\n",
        "\n",
        "            // We add an extra container for the slider just for the styling\n",
        "            var sliderContainer = $(\"<div/>\").css({ margin: \"4px 16px 0px 36px\" });\n",
        "\n",
        "            slider.appendTo(sliderContainer);\n",
        "            sliderContainer.appendTo(tc);\n",
        "\n",
        "            this.setElement(tc);\n",
        "\n",
        "            this.slider = slider;\n",
        "            this.playButton = playButton;\n",
        "        },\n",
        "\n",
        "\n",
        "        update : function () {\n",
        "            return TrajectoryControls.__super__.update.apply(this);\n",
        "        },\n",
        "\n",
        "        play : function () {\n",
        "            var slider = this.slider;\n",
        "            var that = this;\n",
        "            this.playButton.button('option', { icons: { primary : \"ui-icon-pause\"} });\n",
        "\n",
        "            if (slider.slider('value') == slider.slider('option', 'max')) {\n",
        "                slider.slider('value', 0);\n",
        "            }\n",
        "\n",
        "            this.playCallbackId = setInterval( function () {\n",
        "                \n",
        "                if (slider.slider('value') < slider.slider('option', 'max')) {\n",
        "                    slider.slider('value', slider.slider('value') + 1);\n",
        "                    that.model.set('frame', slider.slider('value'));\n",
        "                    that.touch();\n",
        "                } else {\n",
        "                    that.pause();\n",
        "                    that.running = false;\n",
        "                }\n",
        "\n",
        "            }, 1000/this.fps);\n",
        "\n",
        "        },\n",
        "\n",
        "        pause : function () {\n",
        "            this.playButton.button('option', { icons: { primary : \"ui-icon-play\"} });\n",
        "            clearInterval(this.playCallbackId);\n",
        "        },\n",
        "\n",
        "        /* We receive custom messages from our python conterpart with DOMWidget.send */\n",
        "        on_msg: function(msg) {\n",
        "            if (msg.type == 'callMethod') {\n",
        "                this[msg.methodName].call(this, msg.args);\n",
        "            }\n",
        "\n",
        "            return TrajectoryControls.__super__.update.apply(this);\n",
        "        },\n",
        "\n",
        "    });\n",
        "\n",
        "    WidgetManager.register_widget_view('TrajectoryControls', TrajectoryControls);\n",
        "});"
       ],
       "metadata": {},
       "output_type": "display_data",
       "text": [
        "<IPython.core.display.Javascript at 0x7f528854f590>"
       ]
      }
     ],
     "prompt_number": 64
    },
    {
     "cell_type": "code",
     "collapsed": false,
     "input": [
      "from chemview.trajectory import TrajectoryControls\n",
      "\n",
      "tc = TrajectoryControls()\n",
      "def changing(*args):\n",
      "    print tc.frame\n",
      "\n",
      "tc.on_trait_change(changing, \"frame\", False)\n",
      "tc"
     ],
     "language": "python",
     "metadata": {},
     "outputs": [
      {
       "output_type": "stream",
       "stream": "stdout",
       "text": [
        "1\n"
       ]
      },
      {
       "output_type": "stream",
       "stream": "stdout",
       "text": [
        "2\n"
       ]
      },
      {
       "output_type": "stream",
       "stream": "stdout",
       "text": [
        "3\n"
       ]
      },
      {
       "output_type": "stream",
       "stream": "stdout",
       "text": [
        "4\n"
       ]
      },
      {
       "output_type": "stream",
       "stream": "stdout",
       "text": [
        "5\n"
       ]
      },
      {
       "output_type": "stream",
       "stream": "stdout",
       "text": [
        "6\n"
       ]
      },
      {
       "output_type": "stream",
       "stream": "stdout",
       "text": [
        "7\n"
       ]
      },
      {
       "output_type": "stream",
       "stream": "stdout",
       "text": [
        "8\n"
       ]
      },
      {
       "output_type": "stream",
       "stream": "stdout",
       "text": [
        "9\n"
       ]
      },
      {
       "output_type": "stream",
       "stream": "stdout",
       "text": [
        "10\n"
       ]
      },
      {
       "output_type": "stream",
       "stream": "stdout",
       "text": [
        "11\n"
       ]
      },
      {
       "output_type": "stream",
       "stream": "stdout",
       "text": [
        "12\n"
       ]
      },
      {
       "output_type": "stream",
       "stream": "stdout",
       "text": [
        "13\n"
       ]
      },
      {
       "output_type": "stream",
       "stream": "stdout",
       "text": [
        "14\n"
       ]
      },
      {
       "output_type": "stream",
       "stream": "stdout",
       "text": [
        "15\n"
       ]
      },
      {
       "output_type": "stream",
       "stream": "stdout",
       "text": [
        "16\n"
       ]
      },
      {
       "output_type": "stream",
       "stream": "stdout",
       "text": [
        "17\n"
       ]
      },
      {
       "output_type": "stream",
       "stream": "stdout",
       "text": [
        "18\n"
       ]
      },
      {
       "output_type": "stream",
       "stream": "stdout",
       "text": [
        "19\n"
       ]
      },
      {
       "output_type": "stream",
       "stream": "stdout",
       "text": [
        "20\n"
       ]
      },
      {
       "output_type": "stream",
       "stream": "stdout",
       "text": [
        "21\n"
       ]
      },
      {
       "output_type": "stream",
       "stream": "stdout",
       "text": [
        "22\n"
       ]
      },
      {
       "output_type": "stream",
       "stream": "stdout",
       "text": [
        "23\n"
       ]
      },
      {
       "output_type": "stream",
       "stream": "stdout",
       "text": [
        "24\n"
       ]
      },
      {
       "output_type": "stream",
       "stream": "stdout",
       "text": [
        "25\n"
       ]
      },
      {
       "output_type": "stream",
       "stream": "stdout",
       "text": [
        "26\n"
       ]
      },
      {
       "output_type": "stream",
       "stream": "stdout",
       "text": [
        "27\n"
       ]
      },
      {
       "output_type": "stream",
       "stream": "stdout",
       "text": [
        "28\n"
       ]
      },
      {
       "output_type": "stream",
       "stream": "stdout",
       "text": [
        "29\n"
       ]
      },
      {
       "output_type": "stream",
       "stream": "stdout",
       "text": [
        "30\n"
       ]
      },
      {
       "output_type": "stream",
       "stream": "stdout",
       "text": [
        "31\n"
       ]
      },
      {
       "output_type": "stream",
       "stream": "stdout",
       "text": [
        "32\n"
       ]
      },
      {
       "output_type": "stream",
       "stream": "stdout",
       "text": [
        "33\n"
       ]
      },
      {
       "output_type": "stream",
       "stream": "stdout",
       "text": [
        "34\n"
       ]
      },
      {
       "output_type": "stream",
       "stream": "stdout",
       "text": [
        "35\n"
       ]
      },
      {
       "output_type": "stream",
       "stream": "stdout",
       "text": [
        "36\n"
       ]
      },
      {
       "output_type": "stream",
       "stream": "stdout",
       "text": [
        "37\n"
       ]
      },
      {
       "output_type": "stream",
       "stream": "stdout",
       "text": [
        "38\n"
       ]
      },
      {
       "output_type": "stream",
       "stream": "stdout",
       "text": [
        "39\n"
       ]
      },
      {
       "output_type": "stream",
       "stream": "stdout",
       "text": [
        "40\n"
       ]
      },
      {
       "output_type": "stream",
       "stream": "stdout",
       "text": [
        "41\n"
       ]
      },
      {
       "output_type": "stream",
       "stream": "stdout",
       "text": [
        "42\n"
       ]
      },
      {
       "output_type": "stream",
       "stream": "stdout",
       "text": [
        "43\n"
       ]
      },
      {
       "output_type": "stream",
       "stream": "stdout",
       "text": [
        "44\n"
       ]
      },
      {
       "output_type": "stream",
       "stream": "stdout",
       "text": [
        "45\n"
       ]
      },
      {
       "output_type": "stream",
       "stream": "stdout",
       "text": [
        "46\n"
       ]
      },
      {
       "output_type": "stream",
       "stream": "stdout",
       "text": [
        "47\n"
       ]
      },
      {
       "output_type": "stream",
       "stream": "stdout",
       "text": [
        "48\n"
       ]
      },
      {
       "output_type": "stream",
       "stream": "stdout",
       "text": [
        "49\n"
       ]
      },
      {
       "output_type": "stream",
       "stream": "stdout",
       "text": [
        "50\n"
       ]
      },
      {
       "output_type": "stream",
       "stream": "stdout",
       "text": [
        "51\n"
       ]
      },
      {
       "output_type": "stream",
       "stream": "stdout",
       "text": [
        "52\n"
       ]
      },
      {
       "output_type": "stream",
       "stream": "stdout",
       "text": [
        "53\n"
       ]
      },
      {
       "output_type": "stream",
       "stream": "stdout",
       "text": [
        "54\n"
       ]
      },
      {
       "output_type": "stream",
       "stream": "stdout",
       "text": [
        "55\n"
       ]
      },
      {
       "output_type": "stream",
       "stream": "stdout",
       "text": [
        "56\n"
       ]
      },
      {
       "output_type": "stream",
       "stream": "stdout",
       "text": [
        "57\n"
       ]
      },
      {
       "output_type": "stream",
       "stream": "stdout",
       "text": [
        "58\n"
       ]
      },
      {
       "output_type": "stream",
       "stream": "stdout",
       "text": [
        "59\n"
       ]
      },
      {
       "output_type": "stream",
       "stream": "stdout",
       "text": [
        "60\n"
       ]
      },
      {
       "output_type": "stream",
       "stream": "stdout",
       "text": [
        "61\n"
       ]
      },
      {
       "output_type": "stream",
       "stream": "stdout",
       "text": [
        "62\n"
       ]
      },
      {
       "output_type": "stream",
       "stream": "stdout",
       "text": [
        "63\n"
       ]
      },
      {
       "output_type": "stream",
       "stream": "stdout",
       "text": [
        "64\n"
       ]
      },
      {
       "output_type": "stream",
       "stream": "stdout",
       "text": [
        "65\n"
       ]
      },
      {
       "output_type": "stream",
       "stream": "stdout",
       "text": [
        "66\n"
       ]
      },
      {
       "output_type": "stream",
       "stream": "stdout",
       "text": [
        "67\n"
       ]
      },
      {
       "output_type": "stream",
       "stream": "stdout",
       "text": [
        "68\n"
       ]
      },
      {
       "output_type": "stream",
       "stream": "stdout",
       "text": [
        "69\n"
       ]
      },
      {
       "output_type": "stream",
       "stream": "stdout",
       "text": [
        "70\n"
       ]
      },
      {
       "output_type": "stream",
       "stream": "stdout",
       "text": [
        "71\n"
       ]
      },
      {
       "output_type": "stream",
       "stream": "stdout",
       "text": [
        "72\n"
       ]
      },
      {
       "output_type": "stream",
       "stream": "stdout",
       "text": [
        "73\n"
       ]
      },
      {
       "output_type": "stream",
       "stream": "stdout",
       "text": [
        "74\n"
       ]
      },
      {
       "output_type": "stream",
       "stream": "stdout",
       "text": [
        "75\n"
       ]
      },
      {
       "output_type": "stream",
       "stream": "stdout",
       "text": [
        "76\n"
       ]
      },
      {
       "output_type": "stream",
       "stream": "stdout",
       "text": [
        "77\n"
       ]
      },
      {
       "output_type": "stream",
       "stream": "stdout",
       "text": [
        "78\n"
       ]
      },
      {
       "output_type": "stream",
       "stream": "stdout",
       "text": [
        "79\n"
       ]
      },
      {
       "output_type": "stream",
       "stream": "stdout",
       "text": [
        "80\n"
       ]
      },
      {
       "output_type": "stream",
       "stream": "stdout",
       "text": [
        "81\n"
       ]
      },
      {
       "output_type": "stream",
       "stream": "stdout",
       "text": [
        "82\n"
       ]
      },
      {
       "output_type": "stream",
       "stream": "stdout",
       "text": [
        "83\n"
       ]
      },
      {
       "output_type": "stream",
       "stream": "stdout",
       "text": [
        "84\n"
       ]
      },
      {
       "output_type": "stream",
       "stream": "stdout",
       "text": [
        "85\n"
       ]
      },
      {
       "output_type": "stream",
       "stream": "stdout",
       "text": [
        "86\n"
       ]
      },
      {
       "output_type": "stream",
       "stream": "stdout",
       "text": [
        "87\n"
       ]
      },
      {
       "output_type": "stream",
       "stream": "stdout",
       "text": [
        "88\n"
       ]
      },
      {
       "output_type": "stream",
       "stream": "stdout",
       "text": [
        "89\n"
       ]
      },
      {
       "output_type": "stream",
       "stream": "stdout",
       "text": [
        "90\n"
       ]
      },
      {
       "output_type": "stream",
       "stream": "stdout",
       "text": [
        "91\n"
       ]
      },
      {
       "output_type": "stream",
       "stream": "stdout",
       "text": [
        "92\n"
       ]
      },
      {
       "output_type": "stream",
       "stream": "stdout",
       "text": [
        "93\n"
       ]
      },
      {
       "output_type": "stream",
       "stream": "stdout",
       "text": [
        "94\n"
       ]
      },
      {
       "output_type": "stream",
       "stream": "stdout",
       "text": [
        "95\n"
       ]
      },
      {
       "output_type": "stream",
       "stream": "stdout",
       "text": [
        "96\n"
       ]
      },
      {
       "output_type": "stream",
       "stream": "stdout",
       "text": [
        "97\n"
       ]
      },
      {
       "output_type": "stream",
       "stream": "stdout",
       "text": [
        "98\n"
       ]
      },
      {
       "output_type": "stream",
       "stream": "stdout",
       "text": [
        "99\n"
       ]
      },
      {
       "output_type": "stream",
       "stream": "stdout",
       "text": [
        "100\n"
       ]
      },
      {
       "output_type": "stream",
       "stream": "stdout",
       "text": [
        "1\n"
       ]
      },
      {
       "output_type": "stream",
       "stream": "stdout",
       "text": [
        "2\n"
       ]
      },
      {
       "output_type": "stream",
       "stream": "stdout",
       "text": [
        "3\n"
       ]
      },
      {
       "output_type": "stream",
       "stream": "stdout",
       "text": [
        "4\n"
       ]
      },
      {
       "output_type": "stream",
       "stream": "stdout",
       "text": [
        "5\n"
       ]
      },
      {
       "output_type": "stream",
       "stream": "stdout",
       "text": [
        "6\n"
       ]
      },
      {
       "output_type": "stream",
       "stream": "stdout",
       "text": [
        "7\n"
       ]
      },
      {
       "output_type": "stream",
       "stream": "stdout",
       "text": [
        "8\n"
       ]
      },
      {
       "output_type": "stream",
       "stream": "stdout",
       "text": [
        "9\n"
       ]
      },
      {
       "output_type": "stream",
       "stream": "stdout",
       "text": [
        "10\n"
       ]
      },
      {
       "output_type": "stream",
       "stream": "stdout",
       "text": [
        "11\n"
       ]
      },
      {
       "output_type": "stream",
       "stream": "stdout",
       "text": [
        "12\n"
       ]
      },
      {
       "output_type": "stream",
       "stream": "stdout",
       "text": [
        "13\n"
       ]
      },
      {
       "output_type": "stream",
       "stream": "stdout",
       "text": [
        "14\n"
       ]
      },
      {
       "output_type": "stream",
       "stream": "stdout",
       "text": [
        "15\n"
       ]
      },
      {
       "output_type": "stream",
       "stream": "stdout",
       "text": [
        "16\n"
       ]
      },
      {
       "output_type": "stream",
       "stream": "stdout",
       "text": [
        "17\n"
       ]
      },
      {
       "output_type": "stream",
       "stream": "stdout",
       "text": [
        "18\n"
       ]
      },
      {
       "output_type": "stream",
       "stream": "stdout",
       "text": [
        "19\n"
       ]
      },
      {
       "output_type": "stream",
       "stream": "stdout",
       "text": [
        "20\n"
       ]
      },
      {
       "output_type": "stream",
       "stream": "stdout",
       "text": [
        "21\n"
       ]
      },
      {
       "output_type": "stream",
       "stream": "stdout",
       "text": [
        "22\n"
       ]
      },
      {
       "output_type": "stream",
       "stream": "stdout",
       "text": [
        "23\n"
       ]
      },
      {
       "output_type": "stream",
       "stream": "stdout",
       "text": [
        "24\n"
       ]
      },
      {
       "output_type": "stream",
       "stream": "stdout",
       "text": [
        "25\n"
       ]
      },
      {
       "output_type": "stream",
       "stream": "stdout",
       "text": [
        "26\n"
       ]
      },
      {
       "output_type": "stream",
       "stream": "stdout",
       "text": [
        "27\n"
       ]
      },
      {
       "output_type": "stream",
       "stream": "stdout",
       "text": [
        "28\n"
       ]
      },
      {
       "output_type": "stream",
       "stream": "stdout",
       "text": [
        "29\n"
       ]
      },
      {
       "output_type": "stream",
       "stream": "stdout",
       "text": [
        "30\n"
       ]
      },
      {
       "output_type": "stream",
       "stream": "stdout",
       "text": [
        "31\n"
       ]
      },
      {
       "output_type": "stream",
       "stream": "stdout",
       "text": [
        "32\n"
       ]
      },
      {
       "output_type": "stream",
       "stream": "stdout",
       "text": [
        "33\n"
       ]
      },
      {
       "output_type": "stream",
       "stream": "stdout",
       "text": [
        "34\n"
       ]
      },
      {
       "output_type": "stream",
       "stream": "stdout",
       "text": [
        "35\n"
       ]
      },
      {
       "output_type": "stream",
       "stream": "stdout",
       "text": [
        "36\n"
       ]
      },
      {
       "output_type": "stream",
       "stream": "stdout",
       "text": [
        "37\n"
       ]
      },
      {
       "output_type": "stream",
       "stream": "stdout",
       "text": [
        "38\n"
       ]
      },
      {
       "output_type": "stream",
       "stream": "stdout",
       "text": [
        "39\n"
       ]
      },
      {
       "output_type": "stream",
       "stream": "stdout",
       "text": [
        "40\n"
       ]
      },
      {
       "output_type": "stream",
       "stream": "stdout",
       "text": [
        "41\n"
       ]
      },
      {
       "output_type": "stream",
       "stream": "stdout",
       "text": [
        "42\n"
       ]
      },
      {
       "output_type": "stream",
       "stream": "stdout",
       "text": [
        "43\n"
       ]
      },
      {
       "output_type": "stream",
       "stream": "stdout",
       "text": [
        "44\n"
       ]
      },
      {
       "output_type": "stream",
       "stream": "stdout",
       "text": [
        "45\n"
       ]
      },
      {
       "output_type": "stream",
       "stream": "stdout",
       "text": [
        "46\n"
       ]
      },
      {
       "output_type": "stream",
       "stream": "stdout",
       "text": [
        "47\n"
       ]
      },
      {
       "output_type": "stream",
       "stream": "stdout",
       "text": [
        "48\n"
       ]
      },
      {
       "output_type": "stream",
       "stream": "stdout",
       "text": [
        "49\n"
       ]
      },
      {
       "output_type": "stream",
       "stream": "stdout",
       "text": [
        "50\n"
       ]
      },
      {
       "output_type": "stream",
       "stream": "stdout",
       "text": [
        "51\n"
       ]
      },
      {
       "output_type": "stream",
       "stream": "stdout",
       "text": [
        "52\n"
       ]
      },
      {
       "output_type": "stream",
       "stream": "stdout",
       "text": [
        "53\n"
       ]
      },
      {
       "output_type": "stream",
       "stream": "stdout",
       "text": [
        "54\n"
       ]
      },
      {
       "output_type": "stream",
       "stream": "stdout",
       "text": [
        "55\n"
       ]
      },
      {
       "output_type": "stream",
       "stream": "stdout",
       "text": [
        "56\n"
       ]
      },
      {
       "output_type": "stream",
       "stream": "stdout",
       "text": [
        "57\n"
       ]
      },
      {
       "output_type": "stream",
       "stream": "stdout",
       "text": [
        "58\n"
       ]
      },
      {
       "output_type": "stream",
       "stream": "stdout",
       "text": [
        "59\n"
       ]
      },
      {
       "output_type": "stream",
       "stream": "stdout",
       "text": [
        "60\n"
       ]
      },
      {
       "output_type": "stream",
       "stream": "stdout",
       "text": [
        "61\n"
       ]
      },
      {
       "output_type": "stream",
       "stream": "stdout",
       "text": [
        "62\n"
       ]
      },
      {
       "output_type": "stream",
       "stream": "stdout",
       "text": [
        "63\n"
       ]
      },
      {
       "output_type": "stream",
       "stream": "stdout",
       "text": [
        "64\n"
       ]
      },
      {
       "output_type": "stream",
       "stream": "stdout",
       "text": [
        "65\n"
       ]
      },
      {
       "output_type": "stream",
       "stream": "stdout",
       "text": [
        "66\n"
       ]
      },
      {
       "output_type": "stream",
       "stream": "stdout",
       "text": [
        "67\n"
       ]
      },
      {
       "output_type": "stream",
       "stream": "stdout",
       "text": [
        "68\n"
       ]
      },
      {
       "output_type": "stream",
       "stream": "stdout",
       "text": [
        "69\n"
       ]
      },
      {
       "output_type": "stream",
       "stream": "stdout",
       "text": [
        "70\n"
       ]
      },
      {
       "output_type": "stream",
       "stream": "stdout",
       "text": [
        "71\n"
       ]
      },
      {
       "output_type": "stream",
       "stream": "stdout",
       "text": [
        "72\n"
       ]
      },
      {
       "output_type": "stream",
       "stream": "stdout",
       "text": [
        "73\n"
       ]
      },
      {
       "output_type": "stream",
       "stream": "stdout",
       "text": [
        "74\n"
       ]
      },
      {
       "output_type": "stream",
       "stream": "stdout",
       "text": [
        "75\n"
       ]
      },
      {
       "output_type": "stream",
       "stream": "stdout",
       "text": [
        "76\n"
       ]
      },
      {
       "output_type": "stream",
       "stream": "stdout",
       "text": [
        "77\n"
       ]
      },
      {
       "output_type": "stream",
       "stream": "stdout",
       "text": [
        "78\n"
       ]
      },
      {
       "output_type": "stream",
       "stream": "stdout",
       "text": [
        "79\n"
       ]
      },
      {
       "output_type": "stream",
       "stream": "stdout",
       "text": [
        "80\n"
       ]
      },
      {
       "output_type": "stream",
       "stream": "stdout",
       "text": [
        "81\n"
       ]
      },
      {
       "output_type": "stream",
       "stream": "stdout",
       "text": [
        "82\n"
       ]
      },
      {
       "output_type": "stream",
       "stream": "stdout",
       "text": [
        "83\n"
       ]
      },
      {
       "output_type": "stream",
       "stream": "stdout",
       "text": [
        "84\n"
       ]
      },
      {
       "output_type": "stream",
       "stream": "stdout",
       "text": [
        "85\n"
       ]
      },
      {
       "output_type": "stream",
       "stream": "stdout",
       "text": [
        "86\n"
       ]
      },
      {
       "output_type": "stream",
       "stream": "stdout",
       "text": [
        "87\n"
       ]
      },
      {
       "output_type": "stream",
       "stream": "stdout",
       "text": [
        "88\n"
       ]
      },
      {
       "output_type": "stream",
       "stream": "stdout",
       "text": [
        "89\n"
       ]
      },
      {
       "output_type": "stream",
       "stream": "stdout",
       "text": [
        "90\n"
       ]
      },
      {
       "output_type": "stream",
       "stream": "stdout",
       "text": [
        "91\n"
       ]
      },
      {
       "output_type": "stream",
       "stream": "stdout",
       "text": [
        "92\n"
       ]
      },
      {
       "output_type": "stream",
       "stream": "stdout",
       "text": [
        "93\n"
       ]
      },
      {
       "output_type": "stream",
       "stream": "stdout",
       "text": [
        "94\n"
       ]
      },
      {
       "output_type": "stream",
       "stream": "stdout",
       "text": [
        "95\n"
       ]
      },
      {
       "output_type": "stream",
       "stream": "stdout",
       "text": [
        "96\n"
       ]
      },
      {
       "output_type": "stream",
       "stream": "stdout",
       "text": [
        "97\n"
       ]
      },
      {
       "output_type": "stream",
       "stream": "stdout",
       "text": [
        "98\n"
       ]
      },
      {
       "output_type": "stream",
       "stream": "stdout",
       "text": [
        "99\n"
       ]
      },
      {
       "output_type": "stream",
       "stream": "stdout",
       "text": [
        "100\n"
       ]
      },
      {
       "output_type": "stream",
       "stream": "stdout",
       "text": [
        "1\n"
       ]
      },
      {
       "output_type": "stream",
       "stream": "stdout",
       "text": [
        "2\n"
       ]
      },
      {
       "output_type": "stream",
       "stream": "stdout",
       "text": [
        "3\n"
       ]
      },
      {
       "output_type": "stream",
       "stream": "stdout",
       "text": [
        "4\n"
       ]
      },
      {
       "output_type": "stream",
       "stream": "stdout",
       "text": [
        "5\n"
       ]
      },
      {
       "output_type": "stream",
       "stream": "stdout",
       "text": [
        "6\n"
       ]
      },
      {
       "output_type": "stream",
       "stream": "stdout",
       "text": [
        "7\n"
       ]
      },
      {
       "output_type": "stream",
       "stream": "stdout",
       "text": [
        "8\n"
       ]
      },
      {
       "output_type": "stream",
       "stream": "stdout",
       "text": [
        "9\n"
       ]
      },
      {
       "output_type": "stream",
       "stream": "stdout",
       "text": [
        "10\n"
       ]
      },
      {
       "output_type": "stream",
       "stream": "stdout",
       "text": [
        "11\n"
       ]
      },
      {
       "output_type": "stream",
       "stream": "stdout",
       "text": [
        "12\n"
       ]
      },
      {
       "output_type": "stream",
       "stream": "stdout",
       "text": [
        "13\n"
       ]
      },
      {
       "output_type": "stream",
       "stream": "stdout",
       "text": [
        "14\n"
       ]
      },
      {
       "output_type": "stream",
       "stream": "stdout",
       "text": [
        "15\n"
       ]
      },
      {
       "output_type": "stream",
       "stream": "stdout",
       "text": [
        "16\n"
       ]
      },
      {
       "output_type": "stream",
       "stream": "stdout",
       "text": [
        "17\n"
       ]
      },
      {
       "output_type": "stream",
       "stream": "stdout",
       "text": [
        "18\n"
       ]
      },
      {
       "output_type": "stream",
       "stream": "stdout",
       "text": [
        "19\n"
       ]
      },
      {
       "output_type": "stream",
       "stream": "stdout",
       "text": [
        "20\n"
       ]
      },
      {
       "output_type": "stream",
       "stream": "stdout",
       "text": [
        "21\n"
       ]
      },
      {
       "output_type": "stream",
       "stream": "stdout",
       "text": [
        "22\n"
       ]
      },
      {
       "output_type": "stream",
       "stream": "stdout",
       "text": [
        "23\n"
       ]
      },
      {
       "output_type": "stream",
       "stream": "stdout",
       "text": [
        "24\n"
       ]
      },
      {
       "output_type": "stream",
       "stream": "stdout",
       "text": [
        "25\n"
       ]
      },
      {
       "output_type": "stream",
       "stream": "stdout",
       "text": [
        "26\n"
       ]
      },
      {
       "output_type": "stream",
       "stream": "stdout",
       "text": [
        "27\n"
       ]
      },
      {
       "output_type": "stream",
       "stream": "stdout",
       "text": [
        "28\n"
       ]
      },
      {
       "output_type": "stream",
       "stream": "stdout",
       "text": [
        "29\n"
       ]
      },
      {
       "output_type": "stream",
       "stream": "stdout",
       "text": [
        "30\n"
       ]
      },
      {
       "output_type": "stream",
       "stream": "stdout",
       "text": [
        "31\n"
       ]
      },
      {
       "output_type": "stream",
       "stream": "stdout",
       "text": [
        "32\n"
       ]
      },
      {
       "output_type": "stream",
       "stream": "stdout",
       "text": [
        "33\n"
       ]
      },
      {
       "output_type": "stream",
       "stream": "stdout",
       "text": [
        "34\n"
       ]
      },
      {
       "output_type": "stream",
       "stream": "stdout",
       "text": [
        "35\n"
       ]
      },
      {
       "output_type": "stream",
       "stream": "stdout",
       "text": [
        "36\n"
       ]
      },
      {
       "output_type": "stream",
       "stream": "stdout",
       "text": [
        "37\n"
       ]
      },
      {
       "output_type": "stream",
       "stream": "stdout",
       "text": [
        "38\n"
       ]
      },
      {
       "output_type": "stream",
       "stream": "stdout",
       "text": [
        "39\n"
       ]
      },
      {
       "output_type": "stream",
       "stream": "stdout",
       "text": [
        "40\n"
       ]
      },
      {
       "output_type": "stream",
       "stream": "stdout",
       "text": [
        "41\n"
       ]
      },
      {
       "output_type": "stream",
       "stream": "stdout",
       "text": [
        "42\n"
       ]
      },
      {
       "output_type": "stream",
       "stream": "stdout",
       "text": [
        "43\n"
       ]
      },
      {
       "output_type": "stream",
       "stream": "stdout",
       "text": [
        "44\n"
       ]
      },
      {
       "output_type": "stream",
       "stream": "stdout",
       "text": [
        "45\n"
       ]
      },
      {
       "output_type": "stream",
       "stream": "stdout",
       "text": [
        "46\n"
       ]
      },
      {
       "output_type": "stream",
       "stream": "stdout",
       "text": [
        "47\n"
       ]
      },
      {
       "output_type": "stream",
       "stream": "stdout",
       "text": [
        "48\n"
       ]
      },
      {
       "output_type": "stream",
       "stream": "stdout",
       "text": [
        "49\n"
       ]
      },
      {
       "output_type": "stream",
       "stream": "stdout",
       "text": [
        "50\n"
       ]
      },
      {
       "output_type": "stream",
       "stream": "stdout",
       "text": [
        "51\n"
       ]
      },
      {
       "output_type": "stream",
       "stream": "stdout",
       "text": [
        "52\n"
       ]
      },
      {
       "output_type": "stream",
       "stream": "stdout",
       "text": [
        "53\n"
       ]
      },
      {
       "output_type": "stream",
       "stream": "stdout",
       "text": [
        "54\n"
       ]
      },
      {
       "output_type": "stream",
       "stream": "stdout",
       "text": [
        "55\n"
       ]
      },
      {
       "output_type": "stream",
       "stream": "stdout",
       "text": [
        "56\n"
       ]
      },
      {
       "output_type": "stream",
       "stream": "stdout",
       "text": [
        "57\n"
       ]
      },
      {
       "output_type": "stream",
       "stream": "stdout",
       "text": [
        "58\n"
       ]
      },
      {
       "output_type": "stream",
       "stream": "stdout",
       "text": [
        "59\n"
       ]
      },
      {
       "output_type": "stream",
       "stream": "stdout",
       "text": [
        "60\n"
       ]
      },
      {
       "output_type": "stream",
       "stream": "stdout",
       "text": [
        "61\n"
       ]
      },
      {
       "output_type": "stream",
       "stream": "stdout",
       "text": [
        "62\n"
       ]
      },
      {
       "output_type": "stream",
       "stream": "stdout",
       "text": [
        "63\n"
       ]
      },
      {
       "output_type": "stream",
       "stream": "stdout",
       "text": [
        "64\n"
       ]
      },
      {
       "output_type": "stream",
       "stream": "stdout",
       "text": [
        "65\n"
       ]
      },
      {
       "output_type": "stream",
       "stream": "stdout",
       "text": [
        "66\n"
       ]
      },
      {
       "output_type": "stream",
       "stream": "stdout",
       "text": [
        "67\n"
       ]
      },
      {
       "output_type": "stream",
       "stream": "stdout",
       "text": [
        "68\n"
       ]
      },
      {
       "output_type": "stream",
       "stream": "stdout",
       "text": [
        "69\n"
       ]
      },
      {
       "output_type": "stream",
       "stream": "stdout",
       "text": [
        "70\n"
       ]
      },
      {
       "output_type": "stream",
       "stream": "stdout",
       "text": [
        "71\n"
       ]
      },
      {
       "output_type": "stream",
       "stream": "stdout",
       "text": [
        "72\n"
       ]
      },
      {
       "output_type": "stream",
       "stream": "stdout",
       "text": [
        "73\n"
       ]
      },
      {
       "output_type": "stream",
       "stream": "stdout",
       "text": [
        "74\n"
       ]
      },
      {
       "output_type": "stream",
       "stream": "stdout",
       "text": [
        "75\n"
       ]
      },
      {
       "output_type": "stream",
       "stream": "stdout",
       "text": [
        "76\n"
       ]
      },
      {
       "output_type": "stream",
       "stream": "stdout",
       "text": [
        "77\n"
       ]
      },
      {
       "output_type": "stream",
       "stream": "stdout",
       "text": [
        "78\n"
       ]
      },
      {
       "output_type": "stream",
       "stream": "stdout",
       "text": [
        "79\n"
       ]
      },
      {
       "output_type": "stream",
       "stream": "stdout",
       "text": [
        "80\n"
       ]
      },
      {
       "output_type": "stream",
       "stream": "stdout",
       "text": [
        "81\n"
       ]
      },
      {
       "output_type": "stream",
       "stream": "stdout",
       "text": [
        "82\n"
       ]
      },
      {
       "output_type": "stream",
       "stream": "stdout",
       "text": [
        "83\n"
       ]
      },
      {
       "output_type": "stream",
       "stream": "stdout",
       "text": [
        "84\n"
       ]
      },
      {
       "output_type": "stream",
       "stream": "stdout",
       "text": [
        "85\n"
       ]
      },
      {
       "output_type": "stream",
       "stream": "stdout",
       "text": [
        "86\n"
       ]
      },
      {
       "output_type": "stream",
       "stream": "stdout",
       "text": [
        "87\n"
       ]
      },
      {
       "output_type": "stream",
       "stream": "stdout",
       "text": [
        "88\n"
       ]
      },
      {
       "output_type": "stream",
       "stream": "stdout",
       "text": [
        "89\n"
       ]
      },
      {
       "output_type": "stream",
       "stream": "stdout",
       "text": [
        "90\n"
       ]
      },
      {
       "output_type": "stream",
       "stream": "stdout",
       "text": [
        "91\n"
       ]
      },
      {
       "output_type": "stream",
       "stream": "stdout",
       "text": [
        "92\n"
       ]
      },
      {
       "output_type": "stream",
       "stream": "stdout",
       "text": [
        "93\n"
       ]
      },
      {
       "output_type": "stream",
       "stream": "stdout",
       "text": [
        "94\n"
       ]
      },
      {
       "output_type": "stream",
       "stream": "stdout",
       "text": [
        "95\n"
       ]
      },
      {
       "output_type": "stream",
       "stream": "stdout",
       "text": [
        "96\n"
       ]
      },
      {
       "output_type": "stream",
       "stream": "stdout",
       "text": [
        "97\n"
       ]
      },
      {
       "output_type": "stream",
       "stream": "stdout",
       "text": [
        "98\n"
       ]
      },
      {
       "output_type": "stream",
       "stream": "stdout",
       "text": [
        "99\n"
       ]
      },
      {
       "output_type": "stream",
       "stream": "stdout",
       "text": [
        "100\n"
       ]
      },
      {
       "output_type": "stream",
       "stream": "stdout",
       "text": [
        "1\n"
       ]
      },
      {
       "output_type": "stream",
       "stream": "stdout",
       "text": [
        "2\n"
       ]
      },
      {
       "output_type": "stream",
       "stream": "stdout",
       "text": [
        "3\n"
       ]
      },
      {
       "output_type": "stream",
       "stream": "stdout",
       "text": [
        "4\n"
       ]
      },
      {
       "output_type": "stream",
       "stream": "stdout",
       "text": [
        "5\n"
       ]
      },
      {
       "output_type": "stream",
       "stream": "stdout",
       "text": [
        "6\n"
       ]
      },
      {
       "output_type": "stream",
       "stream": "stdout",
       "text": [
        "7\n"
       ]
      },
      {
       "output_type": "stream",
       "stream": "stdout",
       "text": [
        "8\n"
       ]
      },
      {
       "output_type": "stream",
       "stream": "stdout",
       "text": [
        "9\n"
       ]
      },
      {
       "output_type": "stream",
       "stream": "stdout",
       "text": [
        "10\n"
       ]
      },
      {
       "output_type": "stream",
       "stream": "stdout",
       "text": [
        "11\n"
       ]
      },
      {
       "output_type": "stream",
       "stream": "stdout",
       "text": [
        "12\n"
       ]
      },
      {
       "output_type": "stream",
       "stream": "stdout",
       "text": [
        "13\n"
       ]
      },
      {
       "output_type": "stream",
       "stream": "stdout",
       "text": [
        "14\n"
       ]
      },
      {
       "output_type": "stream",
       "stream": "stdout",
       "text": [
        "15\n"
       ]
      },
      {
       "output_type": "stream",
       "stream": "stdout",
       "text": [
        "16\n"
       ]
      },
      {
       "output_type": "stream",
       "stream": "stdout",
       "text": [
        "17\n"
       ]
      },
      {
       "output_type": "stream",
       "stream": "stdout",
       "text": [
        "18\n"
       ]
      },
      {
       "output_type": "stream",
       "stream": "stdout",
       "text": [
        "19\n"
       ]
      },
      {
       "output_type": "stream",
       "stream": "stdout",
       "text": [
        "20\n"
       ]
      },
      {
       "output_type": "stream",
       "stream": "stdout",
       "text": [
        "21\n"
       ]
      },
      {
       "output_type": "stream",
       "stream": "stdout",
       "text": [
        "22\n"
       ]
      },
      {
       "output_type": "stream",
       "stream": "stdout",
       "text": [
        "23\n"
       ]
      },
      {
       "output_type": "stream",
       "stream": "stdout",
       "text": [
        "24\n"
       ]
      },
      {
       "output_type": "stream",
       "stream": "stdout",
       "text": [
        "25\n"
       ]
      },
      {
       "output_type": "stream",
       "stream": "stdout",
       "text": [
        "26\n"
       ]
      },
      {
       "output_type": "stream",
       "stream": "stdout",
       "text": [
        "27\n"
       ]
      },
      {
       "output_type": "stream",
       "stream": "stdout",
       "text": [
        "28\n"
       ]
      },
      {
       "output_type": "stream",
       "stream": "stdout",
       "text": [
        "29\n"
       ]
      },
      {
       "output_type": "stream",
       "stream": "stdout",
       "text": [
        "30\n"
       ]
      }
     ],
     "prompt_number": 65
    },
    {
     "cell_type": "code",
     "collapsed": false,
     "input": [
      "import mdtraj as md\n",
      "traj = md.load_pdb('2M6K.pdb')\n",
      "print traj"
     ],
     "language": "python",
     "metadata": {},
     "outputs": [
      {
       "output_type": "stream",
       "stream": "stdout",
       "text": [
        "<mdtraj.Trajectory with 30 frames, 4462 atoms, 292 residues, and unitcells>\n"
       ]
      }
     ],
     "prompt_number": 73
    },
    {
     "cell_type": "code",
     "collapsed": false,
     "input": [
      "tv = TrajectoryViewer(traj)\n",
      "tv"
     ],
     "language": "python",
     "metadata": {},
     "outputs": [],
     "prompt_number": 5
    },
    {
     "cell_type": "code",
     "collapsed": false,
     "input": [
      "rv = RepresentationViewer()\n",
      "\n",
      "# Atoms as points\n",
      "coordinates = traj.xyz[0].astype('float32')\n",
      "rv.add_representation('points', {'coordinates': coordinates})\n",
      "\n",
      "# Bonds as lines\n",
      "bonds_start = [b[0].index for b in traj.topology.bonds]\n",
      "bonds_end = [b[1].index for b in traj.topology.bonds]\n",
      "colors = [0xffffff] * len(coordinates)\n",
      "rv.add_representation('lines', {'startCoords': coordinates[bonds_start],\n",
      "                                'endCoords': coordinates[bonds_end],\n",
      "                                'startColors': colors,\n",
      "                                'endColors': colors})\n",
      "\n",
      "rv"
     ],
     "language": "python",
     "metadata": {},
     "outputs": [],
     "prompt_number": 30
    }
   ],
   "metadata": {}
  }
 ]
}